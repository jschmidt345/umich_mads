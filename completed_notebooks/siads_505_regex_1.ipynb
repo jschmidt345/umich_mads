{
 "cells": [
  {
   "cell_type": "code",
   "execution_count": 1,
   "metadata": {},
   "outputs": [],
   "source": [
    "# pattern matching in strings using regex\n",
    "# regex's are written in a condensed formatting language\n",
    "# they are a pattern which you give to a regex processor \n",
    "# for: checking for pattern, get all instances, clean using pattern"
   ]
  },
  {
   "cell_type": "code",
   "execution_count": 2,
   "metadata": {},
   "outputs": [],
   "source": [
    "import re "
   ]
  },
  {
   "cell_type": "code",
   "execution_count": 3,
   "metadata": {},
   "outputs": [],
   "source": [
    "# match() checks for a match that is at the beginning of a str\n",
    "# and returns a boolean\n",
    "\n",
    "# search() checks for a match anywhere in the str"
   ]
  },
  {
   "cell_type": "code",
   "execution_count": 7,
   "metadata": {},
   "outputs": [
    {
     "name": "stdout",
     "output_type": "stream",
     "text": [
      "yes\n"
     ]
    }
   ],
   "source": [
    "text = 'This is a good day'\n",
    "\n",
    "if re.search('good', text): \n",
    "    print('yes') \n",
    "else: 'alas'"
   ]
  },
  {
   "cell_type": "code",
   "execution_count": 11,
   "metadata": {},
   "outputs": [
    {
     "data": {
      "text/plain": [
       "['', ' works well. ', ' gets good grade. ', ' is success.']"
      ]
     },
     "execution_count": 11,
     "metadata": {},
     "output_type": "execute_result"
    }
   ],
   "source": [
    "# in addition to checking for conditionals, we can segment a str\n",
    "# the work that regex does here is called tokenizing\n",
    "# the str is separated into substrs based on patterns\n",
    "\n",
    "# findall() and split() will parse the str and return chunks\n",
    "text = 'Amy works well. Amy gets good grade. Amy is success.'\n",
    "re.split('Amy', text)"
   ]
  },
  {
   "cell_type": "code",
   "execution_count": 13,
   "metadata": {},
   "outputs": [
    {
     "data": {
      "text/plain": [
       "['Amy', 'Amy', 'Amy']"
      ]
     },
     "execution_count": 13,
     "metadata": {},
     "output_type": "execute_result"
    }
   ],
   "source": [
    "re.findall('Amy', text)"
   ]
  },
  {
   "cell_type": "code",
   "execution_count": 14,
   "metadata": {},
   "outputs": [],
   "source": [
    "# Anchors specify the start and/or end of the str that you are\n",
    "# trying to match. The ^ means start, $ means end\n",
    "# if you put ^ before a str, it means that the text the regex\n",
    "# processor recieves must start with the str you specify.\n",
    "# the char before $ specifys that the text must end with that char"
   ]
  },
  {
   "cell_type": "code",
   "execution_count": 16,
   "metadata": {},
   "outputs": [
    {
     "data": {
      "text/plain": [
       "<re.Match object; span=(0, 3), match='Amy'>"
      ]
     },
     "execution_count": 16,
     "metadata": {},
     "output_type": "execute_result"
    }
   ],
   "source": [
    "text = 'Amy works. Amy get grade. Amy success.'\n",
    "re.search('^Amy', text)"
   ]
  },
  {
   "cell_type": "markdown",
   "metadata": {},
   "source": [
    "# Patterns and Character classes"
   ]
  },
  {
   "cell_type": "code",
   "execution_count": null,
   "metadata": {},
   "outputs": [],
   "source": []
  }
 ],
 "metadata": {
  "kernelspec": {
   "display_name": "Python 3",
   "language": "python",
   "name": "python3"
  },
  "language_info": {
   "codemirror_mode": {
    "name": "ipython",
    "version": 3
   },
   "file_extension": ".py",
   "mimetype": "text/x-python",
   "name": "python",
   "nbconvert_exporter": "python",
   "pygments_lexer": "ipython3",
   "version": "3.7.4"
  }
 },
 "nbformat": 4,
 "nbformat_minor": 2
}
